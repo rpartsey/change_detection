{
 "cells": [
  {
   "cell_type": "code",
   "execution_count": null,
   "metadata": {},
   "outputs": [],
   "source": [
    "import os\n",
    "import pandas as pd\n",
    "import shutil"
   ]
  },
  {
   "cell_type": "code",
   "execution_count": null,
   "metadata": {},
   "outputs": [],
   "source": []
  },
  {
   "cell_type": "code",
   "execution_count": null,
   "metadata": {},
   "outputs": [],
   "source": [
    "#  sometimes this code can be run to copy/rename geojson files\n",
    "image_dirs = [f for f in glob('/datasets/rpartsey/satellite/planet/SNP_2017-04-11/*') if os.path.isdir(f)]\n",
    "for directory in image_dirs:\n",
    "    os.rename(os.path.join(directory, os.path.basename(geojson_file)), os.path.join(directory, '{}.geojson'.format(os.path.basename(directory))))\n",
    "#     shutil.copyfile(geojson_file, os.path.join(directory, os.path.basename(geojson_file)))"
   ]
  }
 ],
 "metadata": {
  "kernelspec": {
   "display_name": "Python 3",
   "language": "python",
   "name": "python3"
  },
  "language_info": {
   "codemirror_mode": {
    "name": "ipython",
    "version": 3
   },
   "file_extension": ".py",
   "mimetype": "text/x-python",
   "name": "python",
   "nbconvert_exporter": "python",
   "pygments_lexer": "ipython3",
   "version": "3.6.8"
  }
 },
 "nbformat": 4,
 "nbformat_minor": 2
}
