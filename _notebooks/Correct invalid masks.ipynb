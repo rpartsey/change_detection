{
 "cells": [
  {
   "cell_type": "code",
   "execution_count": 6,
   "metadata": {},
   "outputs": [],
   "source": [
    "import os\n",
    "import numpy as np\n",
    "import pandas as pd \n",
    "import rasterio"
   ]
  },
  {
   "cell_type": "code",
   "execution_count": 7,
   "metadata": {},
   "outputs": [],
   "source": [
    "csv_path = '/datasets/rpartsey/satellite/planet/smart_crop/with_mask/files.csv'"
   ]
  },
  {
   "cell_type": "code",
   "execution_count": 8,
   "metadata": {},
   "outputs": [],
   "source": [
    "df = pd.read_csv(csv_path)"
   ]
  },
  {
   "cell_type": "code",
   "execution_count": 9,
   "metadata": {},
   "outputs": [
    {
     "data": {
      "text/html": [
       "<div>\n",
       "<style scoped>\n",
       "    .dataframe tbody tr th:only-of-type {\n",
       "        vertical-align: middle;\n",
       "    }\n",
       "\n",
       "    .dataframe tbody tr th {\n",
       "        vertical-align: top;\n",
       "    }\n",
       "\n",
       "    .dataframe thead th {\n",
       "        text-align: right;\n",
       "    }\n",
       "</style>\n",
       "<table border=\"1\" class=\"dataframe\">\n",
       "  <thead>\n",
       "    <tr style=\"text-align: right;\">\n",
       "      <th></th>\n",
       "      <th>image_path</th>\n",
       "      <th>mask_path</th>\n",
       "    </tr>\n",
       "  </thead>\n",
       "  <tbody>\n",
       "    <tr>\n",
       "      <th>0</th>\n",
       "      <td>/datasets/rpartsey/satellite/planet/smart_crop...</td>\n",
       "      <td>/datasets/rpartsey/satellite/planet/smart_crop...</td>\n",
       "    </tr>\n",
       "    <tr>\n",
       "      <th>1</th>\n",
       "      <td>/datasets/rpartsey/satellite/planet/smart_crop...</td>\n",
       "      <td>/datasets/rpartsey/satellite/planet/smart_crop...</td>\n",
       "    </tr>\n",
       "    <tr>\n",
       "      <th>2</th>\n",
       "      <td>/datasets/rpartsey/satellite/planet/smart_crop...</td>\n",
       "      <td>/datasets/rpartsey/satellite/planet/smart_crop...</td>\n",
       "    </tr>\n",
       "    <tr>\n",
       "      <th>3</th>\n",
       "      <td>/datasets/rpartsey/satellite/planet/smart_crop...</td>\n",
       "      <td>/datasets/rpartsey/satellite/planet/smart_crop...</td>\n",
       "    </tr>\n",
       "    <tr>\n",
       "      <th>4</th>\n",
       "      <td>/datasets/rpartsey/satellite/planet/smart_crop...</td>\n",
       "      <td>/datasets/rpartsey/satellite/planet/smart_crop...</td>\n",
       "    </tr>\n",
       "  </tbody>\n",
       "</table>\n",
       "</div>"
      ],
      "text/plain": [
       "                                          image_path  \\\n",
       "0  /datasets/rpartsey/satellite/planet/smart_crop...   \n",
       "1  /datasets/rpartsey/satellite/planet/smart_crop...   \n",
       "2  /datasets/rpartsey/satellite/planet/smart_crop...   \n",
       "3  /datasets/rpartsey/satellite/planet/smart_crop...   \n",
       "4  /datasets/rpartsey/satellite/planet/smart_crop...   \n",
       "\n",
       "                                           mask_path  \n",
       "0  /datasets/rpartsey/satellite/planet/smart_crop...  \n",
       "1  /datasets/rpartsey/satellite/planet/smart_crop...  \n",
       "2  /datasets/rpartsey/satellite/planet/smart_crop...  \n",
       "3  /datasets/rpartsey/satellite/planet/smart_crop...  \n",
       "4  /datasets/rpartsey/satellite/planet/smart_crop...  "
      ]
     },
     "execution_count": 9,
     "metadata": {},
     "output_type": "execute_result"
    }
   ],
   "source": [
    "df.head()"
   ]
  },
  {
   "cell_type": "code",
   "execution_count": 19,
   "metadata": {},
   "outputs": [],
   "source": [
    "for index, (image_path, mask_path) in df.iterrows():\n",
    "    \n",
    "    with rasterio.open(mask_path) as mask_src:\n",
    "        mask = mask_src.read()\n",
    "    \n",
    "    with rasterio.open(image_path) as image_src:\n",
    "        image = image_src.read()\n",
    "    \n",
    "    bit_mask = mask[0]\n",
    "    b, g, r, nir = image\n",
    "    \n",
    "    valid_pixel_mask = np.logical_or(np.logical_or(b, g), np.logical_or(r, nir))\n",
    "    \n",
    "    image_name = os.path.basename(image_path)\n",
    "    \n",
    "    if np.logical_and(bit_mask, ~valid_pixel_mask).any():\n",
    "        print(image_name, np.logical_and(bit_mask, ~valid_pixel_mask).sum())\n",
    "        \n",
    "#         dest_meta = mask_src.meta.copy()\n",
    "#         with rasterio.open(mask_path, 'w', **dest_meta) as dest_src:\n",
    "#             dest_src.write(np.logical_and(mask, valid_pixel_mask).astype(np.uint8))"
   ]
  },
  {
   "cell_type": "markdown",
   "metadata": {},
   "source": [
    "### Invalid image ids that were foud as invalid and corrected\n",
    "\n",
    "- spring-20170328_074654_0f1d-2.tif\n",
    "- spring-20170329_074623_1024-4.tif\n",
    "- spring-20170329_074624_1024-10.tif\n",
    "- spring-20170329_074624_1024-7.tif\n",
    "- spring-20170329_074624_1024-9.tif\n",
    "- spring-20170329_074626_1024-3.tif\n",
    "- spring-20170402_074845_0f17-1.tif\n",
    "- spring-20170402_074846_0f17-0.tif\n",
    "- spring-20170402_074846_0f17-4.tif\n",
    "- spring-20170403_075404_0e16-12.tif\n",
    "- spring-20170403_075404_0e16-2.tif\n",
    "- spring-20170411_075456_0e30-22.tif\n",
    "- spring-20170411_075456_0e30-7.tif\n",
    "- spring-20170429_085723_1_0c54-0.tif\n",
    "\n",
    "### Now we have to check every corrected mask if its not empty"
   ]
  },
  {
   "cell_type": "code",
   "execution_count": 21,
   "metadata": {},
   "outputs": [
    {
     "name": "stdout",
     "output_type": "stream",
     "text": [
      "spring-20170329_074624_1024-7.tif\n",
      "spring-20170329_074626_1024-3.tif\n"
     ]
    }
   ],
   "source": [
    "for index, (image_path, mask_path) in df.iterrows():\n",
    "    \n",
    "    with rasterio.open(mask_path) as mask_src:\n",
    "        mask = mask_src.read()\n",
    "    \n",
    "    if not mask.any():\n",
    "        image_name = os.path.basename(image_path)\n",
    "        print(image_name)"
   ]
  },
  {
   "cell_type": "markdown",
   "metadata": {},
   "source": [
    "Images with empty masks:\n",
    "- spring-20170329_074624_1024-7.tif\n",
    "- spring-20170329_074626_1024-3.tif\n",
    "\n",
    "Need to manually delete them"
   ]
  },
  {
   "cell_type": "code",
   "execution_count": null,
   "metadata": {},
   "outputs": [],
   "source": []
  }
 ],
 "metadata": {
  "kernelspec": {
   "display_name": "Python 3",
   "language": "python",
   "name": "python3"
  },
  "language_info": {
   "codemirror_mode": {
    "name": "ipython",
    "version": 3
   },
   "file_extension": ".py",
   "mimetype": "text/x-python",
   "name": "python",
   "nbconvert_exporter": "python",
   "pygments_lexer": "ipython3",
   "version": "3.6.9"
  }
 },
 "nbformat": 4,
 "nbformat_minor": 4
}
